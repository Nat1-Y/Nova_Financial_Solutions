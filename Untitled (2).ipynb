{
 "cells": [
  {
   "cell_type": "code",
   "execution_count": 1,
   "id": "6ecfde7e-b0ac-4141-abf0-eae1d51e1437",
   "metadata": {},
   "outputs": [],
   "source": [
    "import pandas as pd\n",
    "import datetime\n",
    "from textblob import TextBlob"
   ]
  },
  {
   "cell_type": "code",
   "execution_count": 2,
   "id": "3bf82e8b-9c7a-4497-bb52-14264d788312",
   "metadata": {},
   "outputs": [],
   "source": [
    "# Load the data from CSV\n",
    "data = pd.read_csv(\"C:/Users/huawei/Desktop/Nova_Financial_Solutions/Data/raw_analyst_ratings.csv\")\n"
   ]
  },
  {
   "cell_type": "code",
   "execution_count": 3,
   "id": "83f545b6-332e-4e07-9635-deb946841682",
   "metadata": {},
   "outputs": [],
   "source": [
    "# Convert the 'date' column to datetime\n",
    "data['date'] = pd.to_datetime(data['date'], format='%Y-%m-%d %H:%M:%S%z', errors='coerce')\n"
   ]
  },
  {
   "cell_type": "code",
   "execution_count": 4,
   "id": "4138abc3-2714-49ff-b2da-809f790dc7b7",
   "metadata": {},
   "outputs": [],
   "source": [
    "stock_data = data[data['stock'] == 'A']"
   ]
  },
  {
   "cell_type": "code",
   "execution_count": null,
   "id": "3b6f32ee-7dcd-4c5a-8d28-ba107e65eb31",
   "metadata": {},
   "outputs": [],
   "source": [
    "news_data.rename(columns={\"date\": \"Date\"}, inplace=True)"
   ]
  },
  {
   "cell_type": "code",
   "execution_count": null,
   "id": "605ee92f-7e79-46e7-b702-7a6c7dac90a4",
   "metadata": {},
   "outputs": [],
   "source": [
    "# Merge the data based on the date column\n",
    "merged_data = pd.merge(data, stock_data, on=\"date\", how=\"inner\")"
   ]
  },
  {
   "cell_type": "code",
   "execution_count": null,
   "id": "c634cb37-ccf7-4d48-80ac-58c6301da957",
   "metadata": {},
   "outputs": [],
   "source": [
    "\n",
    "# Display the merged data\n",
    "print(merged_data)"
   ]
  }
 ],
 "metadata": {
  "kernelspec": {
   "display_name": "Python 3 (ipykernel)",
   "language": "python",
   "name": "python3"
  },
  "language_info": {
   "codemirror_mode": {
    "name": "ipython",
    "version": 3
   },
   "file_extension": ".py",
   "mimetype": "text/x-python",
   "name": "python",
   "nbconvert_exporter": "python",
   "pygments_lexer": "ipython3",
   "version": "3.11.7"
  }
 },
 "nbformat": 4,
 "nbformat_minor": 5
}
